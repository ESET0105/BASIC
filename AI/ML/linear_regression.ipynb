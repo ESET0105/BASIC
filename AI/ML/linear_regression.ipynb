{
 "cells": [
  {
   "cell_type": "markdown",
   "id": "43aea923",
   "metadata": {},
   "source": [
    "importing lib\n",
    "data\n",
    "defining feature\n",
    "splitting\n",
    "model training\n",
    "validating\n",
    "evaluation\n",
    "vizualization "
   ]
  }
 ],
 "metadata": {
  "language_info": {
   "name": "python"
  }
 },
 "nbformat": 4,
 "nbformat_minor": 5
}
